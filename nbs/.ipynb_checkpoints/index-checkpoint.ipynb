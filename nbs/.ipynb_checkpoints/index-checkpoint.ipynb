{
 "cells": [
  {
   "cell_type": "code",
   "execution_count": null,
   "metadata": {},
   "outputs": [],
   "source": [
    "#| hide\n",
    "import CalibrationCurve.core as cc\n",
    "import pandas as pd\n",
    "import statsmodels.api as sm\n",
    "import matplotlib.pyplot as plt\n",
    "import numpy as np\n",
    "import seaborn as sns\n",
    "import statsmodels.api as sm\n",
    "import statsmodels.formula.api as smf\n",
    "from scipy.stats import t\n"
   ]
  },
  {
   "attachments": {},
   "cell_type": "markdown",
   "metadata": {},
   "source": [
    "# CalibrationCurve\n",
    "\n",
    "> A collection of functions that streamline the process of creating calibration curves using Python."
   ]
  },
  {
   "attachments": {},
   "cell_type": "markdown",
   "metadata": {},
   "source": [
    "This file will become your README and also the index of your documentation."
   ]
  },
  {
   "attachments": {},
   "cell_type": "markdown",
   "metadata": {},
   "source": [
    "## Install"
   ]
  },
  {
   "attachments": {},
   "cell_type": "markdown",
   "metadata": {},
   "source": [
    "```sh\n",
    "pip install CalibrationCurve\n",
    "```"
   ]
  },
  {
   "attachments": {},
   "cell_type": "markdown",
   "metadata": {},
   "source": [
    "## How to use"
   ]
  },
  {
   "cell_type": "code",
   "execution_count": null,
   "metadata": {},
   "outputs": [],
   "source": [
    "def generate_test_data(slope, intercept):\n",
    "        x = np.linspace(1, 10, num=5)\n",
    "        y = intercept + x * slope\n",
    "        df = pd.DataFrame({'concentration': x, \"abs\": y})\n",
    "        return df\n",
    "\n",
    "def generate_sample_data():\n",
    "    x = np.array(['unknown1', 'unknown2'])\n",
    "    y = np.array([13.75, 20.50])\n",
    "    df = pd.DataFrame({'sample': x, \"abs\": y})\n",
    "    df = df.set_index('sample')\n",
    "    return df\n",
    "\n",
    "\n",
    "test_data = generate_test_data(3, 4)\n",
    "sample_data = generate_sample_data()"
   ]
  },
  {
   "cell_type": "code",
   "execution_count": null,
   "metadata": {},
   "outputs": [],
   "source": [
    "CalibrationCurve = cc.CalibrationModel(test_data, sample_data, 1)"
   ]
  },
  {
   "cell_type": "code",
   "execution_count": null,
   "metadata": {},
   "outputs": [],
   "source": []
  }
 ],
 "metadata": {
  "kernelspec": {
   "display_name": "python3",
   "language": "python",
   "name": "python3"
  }
 },
 "nbformat": 4,
 "nbformat_minor": 4
}
