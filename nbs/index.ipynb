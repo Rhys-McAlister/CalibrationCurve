{
 "cells": [
  {
   "cell_type": "code",
   "execution_count": null,
   "metadata": {},
   "outputs": [],
   "source": [
    "#| hide\n",
    "from CalibrationCurve.core import *\n",
    "import pandas as pd\n"
   ]
  },
  {
   "attachments": {},
   "cell_type": "markdown",
   "metadata": {},
   "source": [
    "# CalibrationCurve\n",
    "\n",
    "> A collection of functions that streamline the process of creating calibration curves using Python."
   ]
  },
  {
   "attachments": {},
   "cell_type": "markdown",
   "metadata": {},
   "source": [
    "## Install"
   ]
  },
  {
   "attachments": {},
   "cell_type": "markdown",
   "metadata": {},
   "source": [
    "```sh\n",
    "pip install CalibrationCurve\n",
    "```"
   ]
  },
  {
   "attachments": {},
   "cell_type": "markdown",
   "metadata": {},
   "source": [
    "## How to use"
   ]
  },
  {
   "attachments": {},
   "cell_type": "markdown",
   "metadata": {},
   "source": [
    "First we generate some data to work with. "
   ]
  },
  {
   "cell_type": "code",
   "execution_count": null,
   "metadata": {},
   "outputs": [],
   "source": [
    "# generate training data and sample data\n",
    "test_data = pd.DataFrame({'concentration': [0.2, 0.05, 0.1, 0.8, 0.6, 0.4], \"abs\": [0.221, 0.057, 0.119, 0.73, 0.599, 0.383]})\n",
    "sample_data = pd.DataFrame({'unknown': [0.490, 0.471, 0.484, 0.473, 0.479, 0.492]})"
   ]
  },
  {
   "attachments": {},
   "cell_type": "markdown",
   "metadata": {},
   "source": [
    "Now, we create a `CalibrationModel` object and pass the predictor and response variables from our dataset as the x and y values respectively. Additionally we specific the amount of replicates for our unknown. "
   ]
  },
  {
   "cell_type": "code",
   "execution_count": null,
   "metadata": {},
   "outputs": [],
   "source": [
    "cal = CalibrationModel(x=test_data['concentration'], y=test_data['abs'], test_replicates=6)"
   ]
  },
  {
   "attachments": {},
   "cell_type": "markdown",
   "metadata": {},
   "source": [
    "When we call `.fit_ols()`, a least squares regression is fit to the data and the slope, intercept and $R^2$ values are stored in the object and can be retrieved by calling `object.slope`, `object.intercept` and `object.r_squared` respectively. "
   ]
  },
  {
   "cell_type": "code",
   "execution_count": null,
   "metadata": {},
   "outputs": [
    {
     "name": "stdout",
     "output_type": "stream",
     "text": [
      "Slope:  0.904\n",
      "Intercept:  0.027\n",
      "R2:  0.998\n"
     ]
    }
   ],
   "source": [
    "cal.fit_ols()\n",
    "\n",
    "print(f\"Slope: {cal.slope: .3f}\" )\n",
    "print(f\"Intercept: {cal.intercept: .3f}\" )\n",
    "print(f\"R2: {cal.r_squared: .3f}\" )"
   ]
  },
  {
   "attachments": {},
   "cell_type": "markdown",
   "metadata": {},
   "source": [
    "Finally, we can calculate an inverse prediction from unknown data and retrieve the uncertainty but calling `.inverse_prediction()` and `.calculate_uncertainty()` respectively. \n",
    "\n",
    "The uncertainty is calculated according to the following expression:\n",
    "\n",
    "$${S_{\\hat{x}}}_0 = \\frac{S_{y/x}}{b} \\sqrt{\\frac{1}{m} + \\frac{1}{n}} $$"
   ]
  },
  {
   "cell_type": "code",
   "execution_count": null,
   "metadata": {},
   "outputs": [
    {
     "name": "stdout",
     "output_type": "stream",
     "text": [
      "Predicted concentration:  0.502 +-  0.037\n"
     ]
    }
   ],
   "source": [
    "pred = cal.inverse_prediction(sample_data['unknown'])\n",
    "print(f\"Predicted concentration: {pred: .3f} +- {cal.calculate_uncertainty(): .3f}\")"
   ]
  },
  {
   "cell_type": "code",
   "execution_count": null,
   "metadata": {},
   "outputs": [],
   "source": []
  }
 ],
 "metadata": {
  "kernelspec": {
   "display_name": "python3",
   "language": "python",
   "name": "python3"
  }
 },
 "nbformat": 4,
 "nbformat_minor": 4
}
