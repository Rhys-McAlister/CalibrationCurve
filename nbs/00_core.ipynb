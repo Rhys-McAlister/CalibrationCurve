{
 "cells": [
  {
   "cell_type": "markdown",
   "metadata": {},
   "source": [
    "# core\n",
    "\n",
    "> Module for the least squares model fit."
   ]
  },
  {
   "cell_type": "code",
   "execution_count": null,
   "metadata": {},
   "outputs": [],
   "source": [
    "#| default_exp core"
   ]
  },
  {
   "cell_type": "code",
   "execution_count": null,
   "metadata": {},
   "outputs": [],
   "source": [
    "#| hide\n",
    "from nbdev.showdoc import *\n",
    "from fastcore.test import *"
   ]
  },
  {
   "cell_type": "code",
   "execution_count": null,
   "metadata": {},
   "outputs": [],
   "source": [
    "import pandas as pd\n",
    "import statsmodels.api as sm\n",
    "import matplotlib.pyplot as plt\n",
    "import numpy as np\n",
    "import seaborn as sns\n",
    "import statsmodels.api as sm\n",
    "import statsmodels.formula.api as smf\n",
    "from dataclasses import dataclass\n",
    "from scipy.stats import t\n",
    "import typing\n"
   ]
  },
  {
   "cell_type": "markdown",
   "metadata": {},
   "source": [
    "Create an instance of the class `CalibrationModel` by passing in the path to both your calibration data and your sample data. Next specify the name of your response variable and the nummber of test replicates you measured."
   ]
  },
  {
   "cell_type": "code",
   "execution_count": null,
   "metadata": {},
   "outputs": [],
   "source": [
    "sns.set_style(\"white\")\n",
    "sns.set_style(\"ticks\")"
   ]
  },
  {
   "cell_type": "code",
   "execution_count": null,
   "metadata": {},
   "outputs": [],
   "source": [
    "#| export\n",
    "class CalibrationModel:\n",
    "\n",
    "# TODO: think about adding replicates and no. of calibration points here or read it automatically from data\n",
    "\n",
    "    def __init__(self, data, sample_data, response_variable, test_replicates):\n",
    "        self.raw_data = self.load_data(data)\n",
    "        self.sample_data = self.load_sample_data(sample_data)\n",
    "        self.response_variable = response_variable\n",
    "        self.fit = None\n",
    "        self.test_replicates = test_replicates\n",
    "        self.cal_line_points = self.raw_data.shape[0]\n",
    "        self.r2 = None \n",
    "\n",
    "    def load_data(self, data):\n",
    "        if \".csv\" in data:\n",
    "            raw_data = pd.read_csv(data)\n",
    "        else:\n",
    "            raw_data = data\n",
    "\n",
    "        return raw_data\n",
    "\n",
    "    def load_sample_data(self, sample_data):\n",
    "        if \".csv\" in sample_data:\n",
    "            sample_data = pd.read_csv(sample_data, index_col=0)\n",
    "\n",
    "        return sample_data\n",
    "\n",
    "    \n",
    "    def plot_fit(self):\n",
    "        sns.regplot(x=\"concentration\", y=self.response_variable, data=self.raw_data)\n",
    "        sns.despine()\n",
    "        sns.set_context(\"paper\")\n",
    "        plt.title(f\"Calibration curve of concentration versus {self.response_variable}\")\n",
    "        plt.xlabel(\"Concentration\") \n",
    "        plt.show()\n",
    "\n",
    "    def fit_ols(self):\n",
    "        self.fit = smf.ols(f\"{self.response_variable} ~ concentration\", data=self.raw_data).fit()\n",
    "        self.r2 = self.fit.rsquared\n",
    "        print(self.fit.summary())\n",
    "        return self.fit \n",
    "    \n",
    "    def get_params(self):\n",
    "        slope = self.fit.params[1]\n",
    "        intercept = self.fit.params[0]\n",
    "        return slope, intercept\n",
    "    \n",
    "    def get_r2(self):\n",
    "        return self.fit.rsquared\n",
    "    \n",
    "    def inverse_prediction(self, unknown):\n",
    "        y = self.sample_data.loc[unknown, f\"{self.response_variable}\"]\n",
    "        slope, intercept = self.get_params()\n",
    "        return (y - intercept)/slope\n",
    "    \n",
    "    def calculate_sse(self):\n",
    "        return np.sum((self.fit.fittedvalues - self.raw_data[self.response_variable]) **2)\n",
    "    \n",
    "    def calculate_syx(self):\n",
    "        return np.sqrt((self.calculate_sse())/(len(self.raw_data)-2))\n",
    "\n",
    "    \n",
    "    def get_t_value(self,alpha):\n",
    "        return t.ppf(1 - alpha/2, self.fit.df_resid)\n",
    "\n",
    "    def calculate_uncertainty(self):\n",
    "        return self.calculate_sxhat() * self.get_t_value(0.05)\n",
    "    \n",
    "    def calculate_sxhat(self):\n",
    "        return (self.calculate_syx() / self.fit.params[1]) * np.sqrt(1/ self.test_replicates + self.cal_line_points) \n",
    "    \n",
    "    def fit_model(self):\n",
    "        self.fit_ols()\n",
    "        self.plot_fit()\n",
    "        self.get_params()\n",
    "        self.get_r2()\n",
    "        self.calculate_uncertainty()\n",
    "        self.tabulate_results()\n",
    "\n",
    "    def tabulate_results(self):\n",
    "        print(f\"Calibration curve of {self.response_variable} versus concentration\")\n",
    "        print(f\"R2 = {self.r2}\")\n",
    "        print(f\"Slope = {self.get_params()[0]}\")\n",
    "        print(f\"Intercept = {self.get_params()[1]}\")\n",
    "        print(f\"Uncertainity = {self.calculate_uncertainty()}\")\n",
    "        # print(f\"Prediction = {self.inverse_prediction()}\")\n",
    "    "
   ]
  },
  {
   "cell_type": "code",
   "execution_count": null,
   "metadata": {},
   "outputs": [],
   "source": [
    "#| export\n",
    "def plot_calibration_curves(models):\n",
    "    fig, ax = plt.subplots(2, 2, figsize=(10, 10))\n",
    "\n",
    "    for i, model in enumerate(models):\n",
    "        row = i // 2\n",
    "        col = i % 2\n",
    "\n",
    "        sns.regplot(x=\"concentration\", y=f\"{model.response_variable}\", data=model.raw_data, ax=ax[row, col])\n",
    "        ax[row, col].annotate(f\"Predicted value = {model.inverse_prediction():.2f}\", xy=(0.5, 0.9), xycoords='axes fraction', fontsize=9, ha='center', va='center')\n",
    "        ax[row, col].axvline(x=model.inverse_prediction(), color='red', linestyle='--')\n",
    "        ax[row, col].axvline(x=model.inverse_prediction() + model.calculate_uncertainty(), color='blue', linestyle='--')\n",
    "        ax[row, col].axvline(x=model.inverse_prediction() - model.calculate_uncertainty(), color='blue', linestyle='--')\n",
    "        ax[row, col].set_title('Calibration Curve')\n",
    "        ax[row, col].set_xlabel('Concentration (v/v%)')\n",
    "        ax[row, col].set_ylabel('Peak Value')\n",
    "        ax[row, col].annotate(f\"R-squared = {model.get_r2():.3f}\", xy=(0.5, 0.8), xycoords='axes fraction', fontsize=9, ha='center', va='center')\n",
    "        ax[row, col].annotate(f\"Regression formula: y = {model.get_params()[0]:.3f} * x + {model.get_params()[1]:.3f}\", xy=(0.5, 0.7), xycoords='axes fraction', fontsize=9, ha='center', va='center')\n",
    "\n",
    "    plt.tight_layout()\n",
    "    plt.show()"
   ]
  },
  {
   "cell_type": "markdown",
   "metadata": {},
   "source": [
    "## Tests"
   ]
  },
  {
   "cell_type": "code",
   "execution_count": null,
   "metadata": {},
   "outputs": [],
   "source": [
    " def generate_test_data(slope, intercept):\n",
    "        x = np.linspace(1, 10, num=5)\n",
    "        y = intercept + x * slope\n",
    "        df = pd.DataFrame({'concentration': x, \"abs\": y})\n",
    "        return df\n",
    "\n",
    "def generate_sample_data():\n",
    "    x = np.array(['unknown1', 'unknown2'])\n",
    "    y = np.array([13.75, 20.50])\n",
    "    df = pd.DataFrame({'sample': x, \"abs\": y})\n",
    "    df = df.set_index('sample')\n",
    "    return df\n",
    "\n",
    "\n",
    "test_data = generate_test_data(3, 4)\n",
    "sample_data = generate_sample_data()\n",
    "\n"
   ]
  },
  {
   "cell_type": "code",
   "execution_count": null,
   "metadata": {},
   "outputs": [
    {
     "name": "stdout",
     "output_type": "stream",
     "text": [
      "                            OLS Regression Results                            \n",
      "==============================================================================\n",
      "Dep. Variable:                    abs   R-squared:                       1.000\n",
      "Model:                            OLS   Adj. R-squared:                  1.000\n",
      "Method:                 Least Squares   F-statistic:                 6.931e+31\n",
      "Date:                Mon, 12 Jun 2023   Prob (F-statistic):           3.82e-48\n",
      "Time:                        16:39:28   Log-Likelihood:                 162.17\n",
      "No. Observations:                   5   AIC:                            -320.3\n",
      "Df Residuals:                       3   BIC:                            -321.1\n",
      "Df Model:                           1                                         \n",
      "Covariance Type:            nonrobust                                         \n",
      "=================================================================================\n",
      "                    coef    std err          t      P>|t|      [0.025      0.975]\n",
      "---------------------------------------------------------------------------------\n",
      "Intercept         4.0000   2.29e-15   1.75e+15      0.000       4.000       4.000\n",
      "concentration     3.0000    3.6e-16   8.33e+15      0.000       3.000       3.000\n",
      "==============================================================================\n",
      "Omnibus:                          nan   Durbin-Watson:                   1.640\n",
      "Prob(Omnibus):                    nan   Jarque-Bera (JB):                0.176\n",
      "Skew:                          -0.400   Prob(JB):                        0.916\n",
      "Kurtosis:                       2.548   Cond. No.                         12.9\n",
      "==============================================================================\n",
      "\n",
      "Notes:\n",
      "[1] Standard Errors assume that the covariance matrix of the errors is correctly specified.\n"
     ]
    },
    {
     "name": "stderr",
     "output_type": "stream",
     "text": [
      "/home/rhysmcalister/miniconda3/envs/loll/lib/python3.11/site-packages/statsmodels/stats/stattools.py:74: ValueWarning: omni_normtest is not valid with less than 8 observations; 5 samples were given.\n",
      "  warn(\"omni_normtest is not valid with less than 8 observations; %i \"\n"
     ]
    },
    {
     "data": {
      "image/png": "[encoded data removed]",
      "text/plain": [
       "<Figure size 640x480 with 1 Axes>"
      ]
     },
     "metadata": {},
     "output_type": "display_data"
    },
    {
     "name": "stdout",
     "output_type": "stream",
     "text": [
      "Calibration curve of abs versus concentration\n",
      "R2 = 1.0\n",
      "Slope = 3.000000000000001\n",
      "Intercept = 3.9999999999999964\n",
      "Uncertainity = 6.662313258790483e-15\n"
     ]
    }
   ],
   "source": [
    "cal = CalibrationModel(data = test_data, sample_data = sample_data, response_variable = \"abs\", test_replicates = 1)\n",
    "cal.fit_model()"
   ]
  },
  {
   "cell_type": "code",
   "execution_count": null,
   "metadata": {},
   "outputs": [],
   "source": [
    "assert cal.inverse_prediction('unknown1') == 3.25\n"
   ]
  },
  {
   "cell_type": "code",
   "execution_count": null,
   "metadata": {},
   "outputs": [],
   "source": [
    "# assert cal.inverse_prediction('unknown2') == 5.5"
   ]
  },
  {
   "cell_type": "code",
   "execution_count": null,
   "metadata": {},
   "outputs": [
    {
     "data": {
      "text/html": [
       "<div>\n",
       "<style scoped>\n",
       "    .dataframe tbody tr th:only-of-type {\n",
       "        vertical-align: middle;\n",
       "    }\n",
       "\n",
       "    .dataframe tbody tr th {\n",
       "        vertical-align: top;\n",
       "    }\n",
       "\n",
       "    .dataframe thead th {\n",
       "        text-align: right;\n",
       "    }\n",
       "</style>\n",
       "<table border=\"1\" class=\"dataframe\">\n",
       "  <thead>\n",
       "    <tr style=\"text-align: right;\">\n",
       "      <th></th>\n",
       "      <th>abs</th>\n",
       "    </tr>\n",
       "    <tr>\n",
       "      <th>sample</th>\n",
       "      <th></th>\n",
       "    </tr>\n",
       "  </thead>\n",
       "  <tbody>\n",
       "    <tr>\n",
       "      <th>unknown1</th>\n",
       "      <td>13.75</td>\n",
       "    </tr>\n",
       "    <tr>\n",
       "      <th>unknown2</th>\n",
       "      <td>20.50</td>\n",
       "    </tr>\n",
       "  </tbody>\n",
       "</table>\n",
       "</div>"
      ],
      "text/plain": [
       "            abs\n",
       "sample         \n",
       "unknown1  13.75\n",
       "unknown2  20.50"
      ]
     },
     "execution_count": null,
     "metadata": {},
     "output_type": "execute_result"
    }
   ],
   "source": [
    "cal.sample_data"
   ]
  },
  {
   "cell_type": "code",
   "execution_count": null,
   "metadata": {},
   "outputs": [
    {
     "data": {
      "text/html": [
       "<div>\n",
       "<style scoped>\n",
       "    .dataframe tbody tr th:only-of-type {\n",
       "        vertical-align: middle;\n",
       "    }\n",
       "\n",
       "    .dataframe tbody tr th {\n",
       "        vertical-align: top;\n",
       "    }\n",
       "\n",
       "    .dataframe thead th {\n",
       "        text-align: right;\n",
       "    }\n",
       "</style>\n",
       "<table border=\"1\" class=\"dataframe\">\n",
       "  <thead>\n",
       "    <tr style=\"text-align: right;\">\n",
       "      <th></th>\n",
       "      <th>concentration</th>\n",
       "      <th>abs</th>\n",
       "    </tr>\n",
       "  </thead>\n",
       "  <tbody>\n",
       "    <tr>\n",
       "      <th>0</th>\n",
       "      <td>1.00</td>\n",
       "      <td>7.00</td>\n",
       "    </tr>\n",
       "    <tr>\n",
       "      <th>1</th>\n",
       "      <td>3.25</td>\n",
       "      <td>13.75</td>\n",
       "    </tr>\n",
       "    <tr>\n",
       "      <th>2</th>\n",
       "      <td>5.50</td>\n",
       "      <td>20.50</td>\n",
       "    </tr>\n",
       "    <tr>\n",
       "      <th>3</th>\n",
       "      <td>7.75</td>\n",
       "      <td>27.25</td>\n",
       "    </tr>\n",
       "    <tr>\n",
       "      <th>4</th>\n",
       "      <td>10.00</td>\n",
       "      <td>34.00</td>\n",
       "    </tr>\n",
       "  </tbody>\n",
       "</table>\n",
       "</div>"
      ],
      "text/plain": [
       "   concentration    abs\n",
       "0           1.00   7.00\n",
       "1           3.25  13.75\n",
       "2           5.50  20.50\n",
       "3           7.75  27.25\n",
       "4          10.00  34.00"
      ]
     },
     "execution_count": null,
     "metadata": {},
     "output_type": "execute_result"
    }
   ],
   "source": [
    "cal.raw_data"
   ]
  },
  {
   "cell_type": "code",
   "execution_count": null,
   "metadata": {},
   "outputs": [],
   "source": [
    "#| hide\n",
    "import nbdev; nbdev.nbdev_export()"
   ]
  }
 ],
 "metadata": {
  "kernelspec": {
   "display_name": "python3",
   "language": "python",
   "name": "python3"
  }
 },
 "nbformat": 4,
 "nbformat_minor": 4
}
