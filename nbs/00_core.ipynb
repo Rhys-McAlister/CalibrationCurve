{
 "cells": [
  {
   "attachments": {},
   "cell_type": "markdown",
   "metadata": {},
   "source": [
    "# core\n",
    "\n",
    "> Module for the least squares model fit."
   ]
  },
  {
   "cell_type": "code",
   "execution_count": null,
   "metadata": {},
   "outputs": [],
   "source": [
    "#| default_exp core"
   ]
  },
  {
   "cell_type": "code",
   "execution_count": null,
   "metadata": {},
   "outputs": [],
   "source": [
    "#| hide\n",
    "from nbdev.showdoc import *\n",
    "from fastcore.test import *"
   ]
  },
  {
   "cell_type": "code",
   "execution_count": null,
   "metadata": {},
   "outputs": [],
   "source": [
    "import pandas as pd\n",
    "import statsmodels.api as sm\n",
    "import matplotlib.pyplot as plt\n",
    "import numpy as np\n",
    "import seaborn as sns\n",
    "import statsmodels.api as sm\n",
    "import statsmodels.formula.api as smf\n",
    "from dataclasses import dataclass\n",
    "from scipy.stats import t\n",
    "import typing\n"
   ]
  },
  {
   "attachments": {},
   "cell_type": "markdown",
   "metadata": {},
   "source": [
    "Create an instance of the class `CalibrationModel` by passing in the path to both your calibration data and your sample data. Next specify the name of your response variable and the nummber of test replicates you measured."
   ]
  },
  {
   "cell_type": "code",
   "execution_count": null,
   "metadata": {},
   "outputs": [],
   "source": [
    "sns.set_style(\"white\")\n",
    "sns.set_style(\"ticks\")"
   ]
  },
  {
   "cell_type": "code",
   "execution_count": null,
   "metadata": {},
   "outputs": [],
   "source": [
    "#| export\n",
    "class CalibrationModel:\n",
    "\n",
    "# TODO: think about adding replicates and no. of calibration points here or read it automatically from data\n",
    "\n",
    "    def __init__(self, data, response_variable, test_replicates):\n",
    "        self.raw_data = self.load_data(data)\n",
    "        self.response_variable = response_variable\n",
    "        self.fit = None\n",
    "        self.test_replicates = test_replicates\n",
    "        self.cal_line_points = self.raw_data.shape[0]\n",
    "        self.r2 = None \n",
    "\n",
    "    def load_data(self, data):\n",
    "        if \".csv\" in data:\n",
    "            raw_data = pd.read_csv(data)\n",
    "        else:\n",
    "            raw_data = data\n",
    "\n",
    "        return raw_data\n",
    "\n",
    "\n",
    "    \n",
    "\n",
    "    def fit_ols(self):\n",
    "        self.fit = smf.ols(f\"{self.response_variable} ~ concentration\", data=self.raw_data).fit()\n",
    "        self.r2 = self.fit.rsquared\n",
    "        # print(self.fit.summary())\n",
    "        return self.fit \n",
    "    \n",
    "    def get_params(self):\n",
    "        slope = self.fit.params[1]\n",
    "        intercept = self.fit.params[0]\n",
    "        return slope, intercept\n",
    "    \n",
    "    def get_r2(self):\n",
    "        return self.fit.rsquared\n",
    "    \n",
    "    def inverse_prediction(self, unknown: float):\n",
    "        \"\"\"Returns the concentration given the provided response variable.\"\"\"\n",
    "        slope, intercept = self.get_params()\n",
    "        return (unknown - intercept)/slope\n",
    "    \n",
    "    def calculate_sse(self):\n",
    "        return np.sum((self.fit.fittedvalues - self.raw_data[self.response_variable]) **2)\n",
    "    \n",
    "    def calculate_syx(self):\n",
    "        return np.sqrt((self.calculate_sse())/(len(self.raw_data)-2))\n",
    "\n",
    "    \n",
    "    def get_t_value(self,alpha):\n",
    "        return t.ppf(1 - alpha/2, self.fit.df_resid)\n",
    "\n",
    "    def calculate_uncertainty(self):\n",
    "        return self.calculate_sxhat() * self.get_t_value(0.05)\n",
    "    \n",
    "    def calculate_sxhat(self):\n",
    "        return (self.calculate_syx() / self.fit.params[1]) * np.sqrt(1/ self.test_replicates + self.cal_line_points) \n",
    "    \n",
    "    def fit_model(self):\n",
    "        self.fit_ols()\n",
    "        # self.plot_fit()\n",
    "        self.get_params()\n",
    "        self.get_r2()\n",
    "        self.calculate_uncertainty()\n",
    "        self.tabulate_results()\n",
    "\n",
    "    \n",
    "    def plot_fit(self):\n",
    "        sns.regplot(x=\"concentration\", y=self.response_variable, data=self.raw_data)\n",
    "        sns.despine()\n",
    "        sns.set_context(\"paper\")\n",
    "        plt.title(f\"Calibration curve of concentration versus {self.response_variable}\")\n",
    "        plt.xlabel(\"Concentration\") \n",
    "        plt.ylabel('Peak Value')\n",
    "        plt.annotate(f\"R-squared = {self.get_r2():.3f}\", xy=(0.3, 0.8), xycoords='axes fraction', fontsize=9, ha='center', va='center')\n",
    "        plt.annotate(f\"Regression formula: y = {self.get_params()[0]:.3f} * x + {self.get_params()[1]:.3f}\", xy=(0.3, 0.7), xycoords='axes fraction', fontsize=9, ha='center', va='center')\n",
    "        plt.show()    \n",
    "\n",
    "    def summary(self):\n",
    "        \"\"\"Provides a summary of the fitted model by plotting the data alongside the regression fit and printing the summary of the fit.\"\"\"\n",
    "        self.plot_fit()\n",
    "        return self.fit.summary()\n",
    "    \n",
    "\n",
    "    def tabulate_results(self):\n",
    "        print(f\"Calibration curve of {self.response_variable} versus concentration\")\n",
    "        print(f\"R2 = {self.r2}\")\n",
    "        print(f\"Slope = {self.get_params()[0]}\")\n",
    "        print(f\"Intercept = {self.get_params()[1]}\")\n",
    "        print(f\"Uncertainity = {self.calculate_uncertainty()}\")\n",
    "        # print(f\"Prediction = {self.inverse_prediction()}\")\n",
    "    "
   ]
  },
  {
   "cell_type": "code",
   "execution_count": null,
   "metadata": {},
   "outputs": [],
   "source": [
    "import numpy as np\n",
    "from scipy.stats import t\n",
    "\n",
    " \n",
    "\n",
    "ws = 1\n",
    "weights = np.ones(len(model.raw_data))\n",
    "\n",
    "ybars = np.mean(unknown)\n",
    "m = len(unknown)\n",
    "n = len(model.raw_data)\n",
    "df = n - 2\n",
    "\n",
    "xi = model.raw_data['concentration']\n",
    "yi = model.raw_data[model.response_variable]\n",
    "yihat = model.fittedvalues\n",
    "\n",
    "se = np.sqrt(np.sum(weights * (yi - yihat)**2) / df)\n",
    "\n",
    "\n",
    "var_s = se**2 / ws\n",
    "\n",
    "b1 = cal.fit.params[1]\n",
    "\n",
    "ybarw = np.sum(weights * yi) / np.sum(weights)\n",
    "\n",
    "# Adapted form of equation 8.28\n",
    "sxhats = 1 / b1 * np.sqrt(\n",
    "    (var_s / m) +\n",
    "    se**2 * (1 / np.sum(weights) +\n",
    "                (ybars - ybarw)**2 * np.sum(weights) /\n",
    "                (b1**2 * (np.sum(weights) * np.sum(weights * xi**2) - np.sum(weights * xi)**2)))\n",
    ")\n",
    "\n",
    "b0 = cal.fit.params[0]\n",
    "\n",
    "xs = (ybars - b0) / b1\n",
    "t_val = t.ppf(1 - 0.5 * alpha, df)\n",
    "conf = t_val * sxhats\n",
    "conf\n"
   ]
  },
  {
   "cell_type": "code",
   "execution_count": null,
   "metadata": {},
   "outputs": [
    {
     "ename": "AttributeError",
     "evalue": "'LinearRegression' object has no attribute 'model'",
     "output_type": "error",
     "traceback": [
      "\u001b[0;31m---------------------------------------------------------------------------\u001b[0m",
      "\u001b[0;31mAttributeError\u001b[0m                            Traceback (most recent call last)",
      "Cell \u001b[0;32mIn[76], line 18\u001b[0m\n\u001b[1;32m     15\u001b[0m newdata \u001b[39m=\u001b[39m [\u001b[39m7\u001b[39m, \u001b[39m8\u001b[39m, \u001b[39m9\u001b[39m]  \u001b[39m# New y values for prediction\u001b[39;00m\n\u001b[1;32m     16\u001b[0m alpha \u001b[39m=\u001b[39m \u001b[39m0.05\u001b[39m\n\u001b[0;32m---> 18\u001b[0m confidence \u001b[39m=\u001b[39m inverse_predict(model, newdata, alpha\u001b[39m=\u001b[39;49malpha)\n\u001b[1;32m     20\u001b[0m \u001b[39m# Print the confidence interval for each new y value\u001b[39;00m\n\u001b[1;32m     21\u001b[0m \u001b[39mfor\u001b[39;00m i \u001b[39min\u001b[39;00m \u001b[39mrange\u001b[39m(\u001b[39mlen\u001b[39m(newdata)):\n",
      "Cell \u001b[0;32mIn[65], line 11\u001b[0m, in \u001b[0;36minverse_predict\u001b[0;34m(object, newdata, ws, alpha, var_s)\u001b[0m\n\u001b[1;32m      9\u001b[0m \u001b[39melse\u001b[39;00m:\n\u001b[1;32m     10\u001b[0m     coef \u001b[39m=\u001b[39m \u001b[39mobject\u001b[39m\u001b[39m.\u001b[39mcoef_\n\u001b[0;32m---> 11\u001b[0m     model \u001b[39m=\u001b[39m \u001b[39mobject\u001b[39;49m\u001b[39m.\u001b[39;49mmodel\n\u001b[1;32m     12\u001b[0m     weights \u001b[39m=\u001b[39m \u001b[39mgetattr\u001b[39m(\u001b[39mobject\u001b[39m, \u001b[39m'\u001b[39m\u001b[39mweights\u001b[39m\u001b[39m'\u001b[39m, \u001b[39mNone\u001b[39;00m)\n\u001b[1;32m     14\u001b[0m xname \u001b[39m=\u001b[39m model\u001b[39m.\u001b[39mexog_names[\u001b[39m1\u001b[39m]\n",
      "\u001b[0;31mAttributeError\u001b[0m: 'LinearRegression' object has no attribute 'model'"
     ]
    }
   ],
   "source": [
    "# Example usage\n",
    "from sklearn import linear_model\n",
    "import pandas as pd\n",
    "\n",
    "# Create a sample dataset\n",
    "data = {'x': [1, 2, 3, 4, 5],\n",
    "        'y': [2, 4, 5, 4, 6]}\n",
    "df = pd.DataFrame(data)\n",
    "\n",
    "# Fit a linear regression model\n",
    "model = linear_model.LinearRegression()\n",
    "model.fit(df[['x']], df['y'])\n",
    "\n",
    "# Calculate the prediction interval\n",
    "newdata = [7, 8, 9]  # New y values for prediction\n",
    "alpha = 0.05\n",
    "\n",
    "confidence = inverse_predict(model, newdata, alpha=alpha)\n",
    "\n",
    "# Print the confidence interval for each new y value\n",
    "for i in range(len(newdata)):\n",
    "    print(f\"Confidence interval for y={newdata[i]}: {confidence[i]}\")\n"
   ]
  },
  {
   "cell_type": "code",
   "execution_count": null,
   "metadata": {},
   "outputs": [],
   "source": [
    "model."
   ]
  },
  {
   "cell_type": "code",
   "execution_count": null,
   "metadata": {},
   "outputs": [],
   "source": [
    "#| export\n",
    "# def plot_calibration_curves(models, unknown):\n",
    "#     fig, ax = plt.subplots(2, 2, figsize=(10, 10))\n",
    "\n",
    "#     for i, model in enumerate(models):\n",
    "#         row = i // 2\n",
    "#         col = i % 2\n",
    "\n",
    "#         sns.regplot(x=\"concentration\", y=f\"{model.response_variable}\", data=model.raw_data, ax=ax[row, col])\n",
    "#         ax[row, col].annotate(f\"Predicted value = {model.inverse_prediction(unknown):.2f}\", xy=(0.5, 0.9), xycoords='axes fraction', fontsize=9, ha='center', va='center')\n",
    "#         ax[row, col].axvline(x=model.inverse_prediction(unknown), color='red', linestyle='--')\n",
    "#         ax[row, col].axvline(x=model.inverse_prediction(unknown) + model.calculate_uncertainty(), color='blue', linestyle='--')\n",
    "#         ax[row, col].axvline(x=model.inverse_prediction(unknown) - model.calculate_uncertainty(), color='blue', linestyle='--')\n",
    "#         ax[row, col].set_title('Calibration Curve')\n",
    "#         ax[row, col].set_xlabel('Concentration (v/v%)')\n",
    "#         ax[row, col].set_ylabel('Peak Value')\n",
    "#         ax[row, col].annotate(f\"R-squared = {model.get_r2():.3f}\", xy=(0.5, 0.8), xycoords='axes fraction', fontsize=9, ha='center', va='center')\n",
    "#         ax[row, col].annotate(f\"Regression formula: y = {model.get_params()[0]:.3f} * x + {model.get_params()[1]:.3f}\", xy=(0.5, 0.7), xycoords='axes fraction', fontsize=9, ha='center', va='center')\n",
    "\n",
    "#     plt.tight_layout()\n",
    "#     plt.show()"
   ]
  },
  {
   "cell_type": "code",
   "execution_count": null,
   "metadata": {},
   "outputs": [],
   "source": [
    "def generate_test_data(slope, intercept):\n",
    "        x = np.linspace(1, 10, num=5)\n",
    "        y = intercept + x * slope\n",
    "        df = pd.DataFrame({'concentration': x, \"abs\": y})\n",
    "        return df\n",
    "\n",
    "def generate_sample_data():\n",
    "    x = np.array(['unknown1', 'unknown2'])\n",
    "    y = np.array([13.75, 20.50])\n",
    "    df = pd.DataFrame({'sample': x, \"abs\": y})\n",
    "    df = df.set_index('sample')\n",
    "    return df\n",
    "\n",
    "\n",
    "test_data = generate_test_data(3, 4)\n",
    "sample_data = generate_sample_data()\n",
    "\n"
   ]
  },
  {
   "cell_type": "code",
   "execution_count": null,
   "metadata": {},
   "outputs": [
    {
     "name": "stdout",
     "output_type": "stream",
     "text": [
      "Calibration curve of abs versus concentration\n",
      "R2 = 1.0\n",
      "Slope = 3.000000000000001\n",
      "Intercept = 3.9999999999999964\n",
      "Uncertainity = 6.662313258790483e-15\n"
     ]
    }
   ],
   "source": [
    "cal = CalibrationModel(data = test_data, response_variable = \"abs\", test_replicates = 1)\n",
    "cal.fit_model()"
   ]
  },
  {
   "cell_type": "code",
   "execution_count": null,
   "metadata": {},
   "outputs": [
    {
     "data": {
      "image/png": "[encoded data removed]",
      "text/plain": [
       "<Figure size 640x480 with 1 Axes>"
      ]
     },
     "metadata": {},
     "output_type": "display_data"
    },
    {
     "name": "stderr",
     "output_type": "stream",
     "text": [
      "/home/rhysmcalister/mambaforge/envs/myenv/lib/python3.11/site-packages/statsmodels/stats/stattools.py:74: ValueWarning: omni_normtest is not valid with less than 8 observations; 5 samples were given.\n",
      "  warn(\"omni_normtest is not valid with less than 8 observations; %i \"\n"
     ]
    },
    {
     "data": {
      "text/html": [
       "<table class=\"simpletable\">\n",
       "<caption>OLS Regression Results</caption>\n",
       "<tr>\n",
       "  <th>Dep. Variable:</th>           <td>abs</td>       <th>  R-squared:         </th> <td>   1.000</td> \n",
       "</tr>\n",
       "<tr>\n",
       "  <th>Model:</th>                   <td>OLS</td>       <th>  Adj. R-squared:    </th> <td>   1.000</td> \n",
       "</tr>\n",
       "<tr>\n",
       "  <th>Method:</th>             <td>Least Squares</td>  <th>  F-statistic:       </th> <td>6.931e+31</td>\n",
       "</tr>\n",
       "<tr>\n",
       "  <th>Date:</th>             <td>Tue, 13 Jun 2023</td> <th>  Prob (F-statistic):</th> <td>3.82e-48</td> \n",
       "</tr>\n",
       "<tr>\n",
       "  <th>Time:</th>                 <td>07:52:19</td>     <th>  Log-Likelihood:    </th> <td>  162.17</td> \n",
       "</tr>\n",
       "<tr>\n",
       "  <th>No. Observations:</th>      <td>     5</td>      <th>  AIC:               </th> <td>  -320.3</td> \n",
       "</tr>\n",
       "<tr>\n",
       "  <th>Df Residuals:</th>          <td>     3</td>      <th>  BIC:               </th> <td>  -321.1</td> \n",
       "</tr>\n",
       "<tr>\n",
       "  <th>Df Model:</th>              <td>     1</td>      <th>                     </th>     <td> </td>    \n",
       "</tr>\n",
       "<tr>\n",
       "  <th>Covariance Type:</th>      <td>nonrobust</td>    <th>                     </th>     <td> </td>    \n",
       "</tr>\n",
       "</table>\n",
       "<table class=\"simpletable\">\n",
       "<tr>\n",
       "        <td></td>           <th>coef</th>     <th>std err</th>      <th>t</th>      <th>P>|t|</th>  <th>[0.025</th>    <th>0.975]</th>  \n",
       "</tr>\n",
       "<tr>\n",
       "  <th>Intercept</th>     <td>    4.0000</td> <td> 2.29e-15</td> <td> 1.75e+15</td> <td> 0.000</td> <td>    4.000</td> <td>    4.000</td>\n",
       "</tr>\n",
       "<tr>\n",
       "  <th>concentration</th> <td>    3.0000</td> <td>  3.6e-16</td> <td> 8.33e+15</td> <td> 0.000</td> <td>    3.000</td> <td>    3.000</td>\n",
       "</tr>\n",
       "</table>\n",
       "<table class=\"simpletable\">\n",
       "<tr>\n",
       "  <th>Omnibus:</th>       <td>   nan</td> <th>  Durbin-Watson:     </th> <td>   1.640</td>\n",
       "</tr>\n",
       "<tr>\n",
       "  <th>Prob(Omnibus):</th> <td>   nan</td> <th>  Jarque-Bera (JB):  </th> <td>   0.176</td>\n",
       "</tr>\n",
       "<tr>\n",
       "  <th>Skew:</th>          <td>-0.400</td> <th>  Prob(JB):          </th> <td>   0.916</td>\n",
       "</tr>\n",
       "<tr>\n",
       "  <th>Kurtosis:</th>      <td> 2.548</td> <th>  Cond. No.          </th> <td>    12.9</td>\n",
       "</tr>\n",
       "</table><br/><br/>Notes:<br/>[1] Standard Errors assume that the covariance matrix of the errors is correctly specified."
      ],
      "text/latex": [
       "\\begin{center}\n",
       "\\begin{tabular}{lclc}\n",
       "\\toprule\n",
       "\\textbf{Dep. Variable:}    &       abs        & \\textbf{  R-squared:         } &     1.000   \\\\\n",
       "\\textbf{Model:}            &       OLS        & \\textbf{  Adj. R-squared:    } &     1.000   \\\\\n",
       "\\textbf{Method:}           &  Least Squares   & \\textbf{  F-statistic:       } & 6.931e+31   \\\\\n",
       "\\textbf{Date:}             & Tue, 13 Jun 2023 & \\textbf{  Prob (F-statistic):} &  3.82e-48   \\\\\n",
       "\\textbf{Time:}             &     07:52:19     & \\textbf{  Log-Likelihood:    } &    162.17   \\\\\n",
       "\\textbf{No. Observations:} &           5      & \\textbf{  AIC:               } &    -320.3   \\\\\n",
       "\\textbf{Df Residuals:}     &           3      & \\textbf{  BIC:               } &    -321.1   \\\\\n",
       "\\textbf{Df Model:}         &           1      & \\textbf{                     } &             \\\\\n",
       "\\textbf{Covariance Type:}  &    nonrobust     & \\textbf{                     } &             \\\\\n",
       "\\bottomrule\n",
       "\\end{tabular}\n",
       "\\begin{tabular}{lcccccc}\n",
       "                       & \\textbf{coef} & \\textbf{std err} & \\textbf{t} & \\textbf{P$> |$t$|$} & \\textbf{[0.025} & \\textbf{0.975]}  \\\\\n",
       "\\midrule\n",
       "\\textbf{Intercept}     &       4.0000  &     2.29e-15     &  1.75e+15  &         0.000        &        4.000    &        4.000     \\\\\n",
       "\\textbf{concentration} &       3.0000  &      3.6e-16     &  8.33e+15  &         0.000        &        3.000    &        3.000     \\\\\n",
       "\\bottomrule\n",
       "\\end{tabular}\n",
       "\\begin{tabular}{lclc}\n",
       "\\textbf{Omnibus:}       &    nan & \\textbf{  Durbin-Watson:     } &    1.640  \\\\\n",
       "\\textbf{Prob(Omnibus):} &    nan & \\textbf{  Jarque-Bera (JB):  } &    0.176  \\\\\n",
       "\\textbf{Skew:}          & -0.400 & \\textbf{  Prob(JB):          } &    0.916  \\\\\n",
       "\\textbf{Kurtosis:}      &  2.548 & \\textbf{  Cond. No.          } &     12.9  \\\\\n",
       "\\bottomrule\n",
       "\\end{tabular}\n",
       "%\\caption{OLS Regression Results}\n",
       "\\end{center}\n",
       "\n",
       "Notes: \\newline\n",
       " [1] Standard Errors assume that the covariance matrix of the errors is correctly specified."
      ],
      "text/plain": [
       "<class 'statsmodels.iolib.summary.Summary'>\n",
       "\"\"\"\n",
       "                            OLS Regression Results                            \n",
       "==============================================================================\n",
       "Dep. Variable:                    abs   R-squared:                       1.000\n",
       "Model:                            OLS   Adj. R-squared:                  1.000\n",
       "Method:                 Least Squares   F-statistic:                 6.931e+31\n",
       "Date:                Tue, 13 Jun 2023   Prob (F-statistic):           3.82e-48\n",
       "Time:                        07:52:19   Log-Likelihood:                 162.17\n",
       "No. Observations:                   5   AIC:                            -320.3\n",
       "Df Residuals:                       3   BIC:                            -321.1\n",
       "Df Model:                           1                                         \n",
       "Covariance Type:            nonrobust                                         \n",
       "=================================================================================\n",
       "                    coef    std err          t      P>|t|      [0.025      0.975]\n",
       "---------------------------------------------------------------------------------\n",
       "Intercept         4.0000   2.29e-15   1.75e+15      0.000       4.000       4.000\n",
       "concentration     3.0000    3.6e-16   8.33e+15      0.000       3.000       3.000\n",
       "==============================================================================\n",
       "Omnibus:                          nan   Durbin-Watson:                   1.640\n",
       "Prob(Omnibus):                    nan   Jarque-Bera (JB):                0.176\n",
       "Skew:                          -0.400   Prob(JB):                        0.916\n",
       "Kurtosis:                       2.548   Cond. No.                         12.9\n",
       "==============================================================================\n",
       "\n",
       "Notes:\n",
       "[1] Standard Errors assume that the covariance matrix of the errors is correctly specified.\n",
       "\"\"\""
      ]
     },
     "execution_count": null,
     "metadata": {},
     "output_type": "execute_result"
    }
   ],
   "source": [
    "cal.summary()"
   ]
  },
  {
   "attachments": {},
   "cell_type": "markdown",
   "metadata": {},
   "source": [
    "## Tests"
   ]
  },
  {
   "attachments": {},
   "cell_type": "markdown",
   "metadata": {},
   "source": [
    "A couple of quick tests to make sure nothing is broken. "
   ]
  },
  {
   "cell_type": "code",
   "execution_count": null,
   "metadata": {},
   "outputs": [],
   "source": [
    "assert cal.inverse_prediction(13.75) == 3.25\n"
   ]
  },
  {
   "cell_type": "code",
   "execution_count": null,
   "metadata": {},
   "outputs": [],
   "source": [
    "assert cal.inverse_prediction(20.5) == 5.5"
   ]
  },
  {
   "cell_type": "code",
   "execution_count": null,
   "metadata": {},
   "outputs": [],
   "source": [
    "#| hide\n",
    "import nbdev; nbdev.nbdev_export()"
   ]
  }
 ],
 "metadata": {
  "kernelspec": {
   "display_name": "python3",
   "language": "python",
   "name": "python3"
  }
 },
 "nbformat": 4,
 "nbformat_minor": 4
}
