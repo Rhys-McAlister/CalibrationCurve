{
 "cells": [
  {
   "attachments": {},
   "cell_type": "markdown",
   "metadata": {},
   "source": [
    "# core\n",
    "\n",
    "> Module for the least squares model fit."
   ]
  },
  {
   "cell_type": "code",
   "execution_count": null,
   "metadata": {},
   "outputs": [],
   "source": [
    "#| default_exp core"
   ]
  },
  {
   "cell_type": "code",
   "execution_count": null,
   "metadata": {},
   "outputs": [],
   "source": [
    "#| hide\n",
    "import pandas as pd\n",
    "import numpy as np\n",
    "import matplotlib.pyplot as plt\n",
    "import seaborn as sns\n",
    "from scipy.stats import t\n",
    "from sklearn.linear_model import LinearRegression\n",
    "from sklearn.metrics import r2_score\n"
   ]
  },
  {
   "attachments": {},
   "cell_type": "markdown",
   "metadata": {},
   "source": [
    "Create an instance of the class `CalibrationModel` by passing in the path to both your calibration data and your sample data. Next specify the name of your response variable and the nummber of test replicates you measured."
   ]
  },
  {
   "cell_type": "code",
   "execution_count": null,
   "metadata": {},
   "outputs": [],
   "source": [
    "sns.set_style(\"white\")\n",
    "sns.set_style(\"ticks\")"
   ]
  },
  {
   "cell_type": "code",
   "execution_count": null,
   "metadata": {},
   "outputs": [],
   "source": [
    "#| export\n",
    "\n",
    "class CalibrationModel:\n",
    "    def __init__(self, data, response_variable, test_replicates):\n",
    "        self.raw_data = self.load_data(data)\n",
    "        self.response_variable = response_variable\n",
    "        self.fit = None\n",
    "        self.test_replicates = test_replicates\n",
    "        self.cal_line_points = self.raw_data.shape[0]\n",
    "        self.r2 = None\n",
    "\n",
    "    def load_data(self, data):\n",
    "        if \".csv\" in data:\n",
    "            raw_data = pd.read_csv(data)\n",
    "        else:\n",
    "            raw_data = data\n",
    "        return raw_data\n",
    "\n",
    "    def fit_ols(self):\n",
    "        X = self.raw_data[[\"concentration\"]]\n",
    "        y = self.raw_data[self.response_variable]\n",
    "        lr = LinearRegression\n",
    "        self.fit = lr().fit(X, y)\n",
    "        self.r2 = self.fit.score(X, y)\n",
    "        return self.fit\n",
    "\n",
    "    def get_params(self):\n",
    "        slope = self.fit.coef_[0]\n",
    "        intercept = self.fit.intercept_\n",
    "        return slope, intercept\n",
    "\n",
    "    def get_r2(self):\n",
    "        return self.r2\n",
    "\n",
    "    def inverse_prediction(self, unknown: float):\n",
    "        slope, intercept = self.get_params()\n",
    "        return (unknown - intercept) / slope\n",
    "\n",
    "    def calculate_sse(self):\n",
    "        y_pred = self.fit.predict(self.raw_data[[\"concentration\"]])\n",
    "        return np.sum((y_pred - self.raw_data[self.response_variable]) ** 2)\n",
    "\n",
    "    def calculate_syx(self):\n",
    "        return np.sqrt((self.calculate_sse()) / (len(self.raw_data) - 2))\n",
    "\n",
    "    def get_t_value(self, alpha):\n",
    "        return t.ppf(1 - alpha / 2, len(self.raw_data) - 2)\n",
    "\n",
    "    def calculate_uncertainty(self):\n",
    "        return self.calculate_sxhat() * self.get_t_value(0.05)\n",
    "\n",
    "    def calculate_sxhat(self):\n",
    "        return (self.calculate_syx() / self.fit.coef_[0]) * np.sqrt(1 / self.test_replicates + self.cal_line_points)\n",
    "\n",
    "    def fit_model(self):\n",
    "        self.fit_ols()\n",
    "        self.get_params()\n",
    "        self.get_r2()\n",
    "        self.calculate_uncertainty()\n",
    "        self.tabulate_results()\n",
    "\n",
    "    def plot_fit(self):\n",
    "        sns.regplot(x=\"concentration\", y=self.response_variable, data=self.raw_data)\n",
    "        sns.despine()\n",
    "        sns.set_context(\"paper\")\n",
    "        plt.title(f\"Calibration curve of concentration versus {self.response_variable}\")\n",
    "        plt.xlabel(\"Concentration\")\n",
    "        plt.ylabel(\"Peak Value\")\n",
    "        plt.annotate(f\"R-squared = {self.get_r2():.3f}\", xy=(0.3, 0.8), xycoords=\"axes fraction\", fontsize=9,\n",
    "                     ha=\"center\", va=\"center\")\n",
    "        plt.annotate(f\"Regression formula: y = {self.get_params()[0]:.3f} * x + {self.get_params()[1]:.3f}\",\n",
    "                     xy=(0.3, 0.7), xycoords=\"axes fraction\", fontsize=9, ha=\"center\", va=\"center\")\n",
    "        plt.show()\n",
    "\n",
    "\n",
    "\n",
    "    def tabulate_results(self):\n",
    "        print(f\"Calibration curve of {self.response_variable} versus concentration\")\n",
    "        print(f\"R2 = {self.r2}\")\n",
    "        print(f\"Slope = {self.get_params()[0]}\")\n",
    "        print(f\"Intercept = {self.get_params()[1]}\")\n",
    "        print(f\"Uncertainity = {self.calculate_uncertainty()}\")\n",
    "        # print(f\"Prediction = {self.inverse_prediction()}\")\n",
    "    "
   ]
  },
  {
   "cell_type": "code",
   "execution_count": null,
   "metadata": {},
   "outputs": [],
   "source": [
    "def generate_test_data(slope, intercept):\n",
    "        x = np.linspace(1, 10, num=5)\n",
    "        y = intercept + x * slope\n",
    "        df = pd.DataFrame({'concentration': x, \"abs\": y})\n",
    "        return df\n",
    "\n",
    "def generate_sample_data():\n",
    "    x = np.array(['unknown1', 'unknown2'])\n",
    "    y = np.array([13.75, 20.50])\n",
    "    df = pd.DataFrame({'sample': x, \"abs\": y})\n",
    "    df = df.set_index('sample')\n",
    "    return df\n",
    "\n",
    "\n",
    "test_data = generate_test_data(3, 4)\n",
    "sample_data = generate_sample_data()\n",
    "\n"
   ]
  },
  {
   "cell_type": "code",
   "execution_count": null,
   "metadata": {},
   "outputs": [
    {
     "name": "stdout",
     "output_type": "stream",
     "text": [
      "Calibration curve of abs versus concentration\n",
      "R2 = 1.0\n",
      "Slope = 3.0000000000000004\n",
      "Intercept = 3.9999999999999964\n",
      "Uncertainity = 5.9589541336214675e-15\n"
     ]
    }
   ],
   "source": [
    "cal = CalibrationModel(data = test_data, response_variable = \"abs\", test_replicates = 1)\n",
    "cal.fit_model()"
   ]
  },
  {
   "attachments": {},
   "cell_type": "markdown",
   "metadata": {},
   "source": [
    "## Tests"
   ]
  },
  {
   "attachments": {},
   "cell_type": "markdown",
   "metadata": {},
   "source": [
    "A couple of quick tests to make sure nothing is broken. "
   ]
  },
  {
   "cell_type": "code",
   "execution_count": null,
   "metadata": {},
   "outputs": [],
   "source": [
    "assert cal.inverse_prediction(20.5) == 5.5"
   ]
  },
  {
   "cell_type": "code",
   "execution_count": null,
   "metadata": {},
   "outputs": [],
   "source": [
    "#| hide\n",
    "import nbdev; nbdev.nbdev_export()"
   ]
  }
 ],
 "metadata": {
  "kernelspec": {
   "display_name": "python3",
   "language": "python",
   "name": "python3"
  }
 },
 "nbformat": 4,
 "nbformat_minor": 4
}
